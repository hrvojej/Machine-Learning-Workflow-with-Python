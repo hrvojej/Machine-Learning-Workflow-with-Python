{
 "cells": [
  {
   "cell_type": "code",
   "execution_count": 3,
   "metadata": {},
   "outputs": [],
   "source": [
    "import keras\n",
    "from keras.datasets import reuters\n",
    "import numpy as np"
   ]
  },
  {
   "cell_type": "code",
   "execution_count": 6,
   "metadata": {},
   "outputs": [],
   "source": [
    "(x_train, y_train),(x_test,y_test) = reuters.load_data(num_words=None, test_split=0)\n",
    "num_classes= max(y_train) +1"
   ]
  },
  {
   "cell_type": "code",
   "execution_count": 7,
   "metadata": {},
   "outputs": [],
   "source": [
    "from keras.preprocessing.text import Tokenizer\n",
    "max_words = 10000\n",
    "\n",
    "tokenizer = Tokenizer(num_words=max_words)\n",
    "\n",
    "x_train = tokenizer.sequences_to_matrix(x_train, mode='binary')\n",
    "x_test = tokenizer.sequences_to_matrix(x_test, mode='binary')\n",
    "\n",
    "y_train = keras.utils.to_categorical(y_train, num_classes)\n",
    "y_test = keras.utils.to_categorical(y_test, num_classes)\n"
   ]
  },
  {
   "cell_type": "code",
   "execution_count": 8,
   "metadata": {},
   "outputs": [
    {
     "name": "stdout",
     "output_type": "stream",
     "text": [
      "[0. 1. 0. ... 0. 0. 0.]\n",
      "1.0\n"
     ]
    }
   ],
   "source": [
    "print(x_train[0])\n",
    "print(max(x_train[0]))"
   ]
  },
  {
   "cell_type": "code",
   "execution_count": 9,
   "metadata": {},
   "outputs": [],
   "source": [
    "from keras.models import Sequential\n",
    "from keras.layers import Dense,Dropout,Activation\n",
    "\n",
    "model = Sequential()\n",
    "model.add(Dense(512, input_shape=(max_words,)))\n",
    "model.add(Dropout(0.5))\n",
    "model.add(Activation('relu'))\n",
    "model.add(Dense(max_classes))\n",
    "model.add(Activation('softmax'))\n",
    "\n",
    "model.compile(loss='categorical_crossentropy', optimizer='adam', metrics=['accuracy'])"
   ]
  },
  {
   "cell_type": "code",
   "execution_count": 10,
   "metadata": {},
   "outputs": [
    {
     "name": "stdout",
     "output_type": "stream",
     "text": [
      "Train on 10105 samples, validate on 1123 samples\n",
      "Epoch 1/2\n",
      "10105/10105 [==============================] - 40s 4ms/step - loss: 1.2270 - acc: 0.7351 - val_loss: 0.8646 - val_acc: 0.8068\n",
      "Epoch 2/2\n",
      "10105/10105 [==============================] - 39s 4ms/step - loss: 0.4825 - acc: 0.8921 - val_loss: 0.8528 - val_acc: 0.8050\n",
      "11228/11228 [==============================] - 6s 539us/step\n",
      "Loss: 0.2956704123189197\n",
      "Accuracy: 0.9323120769292467\n"
     ]
    }
   ],
   "source": [
    "batch_size = 32\n",
    "epochs = 2\n",
    "\n",
    "history = model.fit(x_train, y_train, batch_size=batch_size, epochs=epochs, validation_split=0.1)\n",
    "score = model.evaluate(x_train, y_train, batch_size=batch_size)\n",
    "\n",
    "print(\"Loss:\", score[0])\n",
    "print(\"Accuracy:\", score[1])"
   ]
  },
  {
   "cell_type": "markdown",
   "metadata": {},
   "source": [
    "### Count"
   ]
  },
  {
   "cell_type": "code",
   "execution_count": 11,
   "metadata": {},
   "outputs": [],
   "source": [
    "(x_train, y_train),(x_test,y_test) = reuters.load_data(num_words=None, test_split=0)\n",
    "\n",
    "x_train = tokenizer.sequences_to_matrix(x_train, mode='count')\n",
    "x_test = tokenizer.sequences_to_matrix(x_test, mode='count')\n",
    "\n",
    "y_train = keras.utils.to_categorical(y_train, num_classes)\n",
    "y_test = keras.utils.to_categorical(y_test, num_classes)"
   ]
  },
  {
   "cell_type": "code",
   "execution_count": 12,
   "metadata": {},
   "outputs": [
    {
     "name": "stdout",
     "output_type": "stream",
     "text": [
      "[0. 1. 0. ... 0. 0. 0.]\n",
      "10.0\n"
     ]
    }
   ],
   "source": [
    "print(x_train[2])\n",
    "print(max(x_train[2]))"
   ]
  },
  {
   "cell_type": "code",
   "execution_count": 13,
   "metadata": {},
   "outputs": [
    {
     "name": "stdout",
     "output_type": "stream",
     "text": [
      "Train on 10105 samples, validate on 1123 samples\n",
      "Epoch 1/2\n",
      "10105/10105 [==============================] - 34s 3ms/step - loss: 1.2509 - acc: 0.7419 - val_loss: 0.9051 - val_acc: 0.8068\n",
      "Epoch 2/2\n",
      "10105/10105 [==============================] - 39s 4ms/step - loss: 0.5523 - acc: 0.8813 - val_loss: 0.8756 - val_acc: 0.8183\n",
      "11228/11228 [==============================] - 6s 492us/step\n",
      "Loss: 0.3278978692708085\n",
      "Accuracy: 0.931777698589382\n"
     ]
    }
   ],
   "source": [
    "model = Sequential()\n",
    "model.add(Dense(512, input_shape=(max_words,)))\n",
    "model.add(Dropout(0.5))\n",
    "model.add(Activation('relu'))\n",
    "model.add(Dense(max_classes))\n",
    "model.add(Activation('softmax'))\n",
    "\n",
    "model.compile(loss='categorical_crossentropy', optimizer='adam', metrics=['accuracy'])\n",
    "\n",
    "history = model.fit(x_train, y_train, batch_size=batch_size, epochs=epochs, validation_split=0.1)\n",
    "score = model.evaluate(x_train, y_train, batch_size=batch_size)\n",
    "\n",
    "print(\"Loss:\", score[0])\n",
    "print(\"Accuracy:\", score[1])"
   ]
  },
  {
   "cell_type": "markdown",
   "metadata": {},
   "source": [
    "### Frequency"
   ]
  },
  {
   "cell_type": "code",
   "execution_count": 14,
   "metadata": {},
   "outputs": [],
   "source": [
    "(x_train, y_train),(x_test,y_test) = reuters.load_data(num_words=None, test_split=0)\n",
    "\n",
    "x_train = tokenizer.sequences_to_matrix(x_train, mode='freq')\n",
    "x_test = tokenizer.sequences_to_matrix(x_test, mode='freq')\n",
    "\n",
    "y_train = keras.utils.to_categorical(y_train, num_classes)\n",
    "y_test = keras.utils.to_categorical(y_test, num_classes)"
   ]
  },
  {
   "cell_type": "code",
   "execution_count": 15,
   "metadata": {},
   "outputs": [
    {
     "name": "stdout",
     "output_type": "stream",
     "text": [
      "Train on 10105 samples, validate on 1123 samples\n",
      "Epoch 1/2\n",
      "10105/10105 [==============================] - 35s 3ms/step - loss: 2.2213 - acc: 0.4605 - val_loss: 1.8403 - val_acc: 0.5120\n",
      "Epoch 2/2\n",
      "10105/10105 [==============================] - 34s 3ms/step - loss: 1.6316 - acc: 0.6005 - val_loss: 1.5759 - val_acc: 0.6456\n",
      "11228/11228 [==============================] - 4s 380us/step\n",
      "Loss: 1.476936899303413\n",
      "Accuracy: 0.671090131823941\n"
     ]
    }
   ],
   "source": [
    "model = Sequential()\n",
    "model.add(Dense(512, input_shape=(max_words,)))\n",
    "model.add(Dropout(0.5))\n",
    "model.add(Activation('relu'))\n",
    "model.add(Dense(max_classes))\n",
    "model.add(Activation('softmax'))\n",
    "\n",
    "model.compile(loss='categorical_crossentropy', optimizer='adam', metrics=['accuracy'])\n",
    "\n",
    "history = model.fit(x_train, y_train, batch_size=batch_size, epochs=epochs, validation_split=0.1)\n",
    "score = model.evaluate(x_train, y_train, batch_size=batch_size)\n",
    "\n",
    "print(\"Loss:\", score[0])\n",
    "print(\"Accuracy:\", score[1])"
   ]
  },
  {
   "cell_type": "markdown",
   "metadata": {},
   "source": [
    "### TF-IDF"
   ]
  },
  {
   "cell_type": "code",
   "execution_count": 17,
   "metadata": {},
   "outputs": [],
   "source": [
    "(x_train, y_train),(x_test,y_test) = reuters.load_data(num_words=None, test_split=0.2)\n",
    "\n",
    "tokenizer.fit_on_sequences(x_train)\n",
    "\n",
    "x_train = tokenizer.sequences_to_matrix(x_train, mode='tfidf')\n",
    "x_test = tokenizer.sequences_to_matrix(x_test, mode='tfidf')\n",
    "\n",
    "y_train = keras.utils.to_categorical(y_train, num_classes)\n",
    "y_test = keras.utils.to_categorical(y_test, num_classes)"
   ]
  },
  {
   "cell_type": "code",
   "execution_count": 18,
   "metadata": {},
   "outputs": [
    {
     "name": "stdout",
     "output_type": "stream",
     "text": [
      "Train on 8083 samples, validate on 899 samples\n",
      "Epoch 1/2\n",
      "8083/8083 [==============================] - 28s 4ms/step - loss: 1.2528 - acc: 0.7548 - val_loss: 0.9764 - val_acc: 0.8220\n",
      "Epoch 2/2\n",
      "8083/8083 [==============================] - 30s 4ms/step - loss: 0.4608 - acc: 0.9120 - val_loss: 1.0770 - val_acc: 0.8076\n",
      "8982/8982 [==============================] - 4s 392us/step\n",
      "Loss: 0.3004458815396907\n",
      "Accuracy: 0.9438877754980142\n"
     ]
    }
   ],
   "source": [
    "model = Sequential()\n",
    "model.add(Dense(512, input_shape=(max_words,)))\n",
    "model.add(Dropout(0.5))\n",
    "model.add(Activation('relu'))\n",
    "model.add(Dense(max_classes))\n",
    "model.add(Activation('softmax'))\n",
    "\n",
    "model.compile(loss='categorical_crossentropy', optimizer='adam', metrics=['accuracy'])\n",
    "\n",
    "history = model.fit(x_train, y_train, batch_size=batch_size, epochs=epochs, validation_split=0.1)\n",
    "score = model.evaluate(x_train, y_train, batch_size=batch_size)\n",
    "\n",
    "print(\"Loss:\", score[0])\n",
    "print(\"Accuracy:\", score[1])"
   ]
  },
  {
   "cell_type": "code",
   "execution_count": null,
   "metadata": {},
   "outputs": [],
   "source": []
  }
 ],
 "metadata": {
  "kernelspec": {
   "display_name": "Python 3",
   "language": "python",
   "name": "python3"
  },
  "language_info": {
   "codemirror_mode": {
    "name": "ipython",
    "version": 3
   },
   "file_extension": ".py",
   "mimetype": "text/x-python",
   "name": "python",
   "nbconvert_exporter": "python",
   "pygments_lexer": "ipython3",
   "version": "3.6.6"
  }
 },
 "nbformat": 4,
 "nbformat_minor": 2
}
